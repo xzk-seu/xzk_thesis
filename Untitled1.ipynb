{
 "cells": [
  {
   "cell_type": "code",
   "execution_count": 1,
   "metadata": {},
   "outputs": [],
   "source": [
    "import torch\n",
    "from torch import nn\n",
    "from torch.utils.data import DataLoader\n",
    "from torchvision import datasets\n",
    "from torchvision.transforms import ToTensor, Lambda, Compose\n",
    "import matplotlib.pyplot as plt\n",
    "\n",
    "# Download training data from open datasets.\n",
    "training_data = datasets.FashionMNIST(\n",
    "    root=\"data\",\n",
    "    train=True,\n",
    "    download=True,\n",
    "    transform=ToTensor(),\n",
    ")\n",
    "\n",
    "# Download test data from open datasets.\n",
    "test_data = datasets.FashionMNIST(\n",
    "    root=\"data\",\n",
    "    train=False,\n",
    "    download=True,\n",
    "    transform=ToTensor(),\n",
    ")"
   ]
  },
  {
   "cell_type": "code",
   "execution_count": 2,
   "metadata": {},
   "outputs": [
    {
     "name": "stdout",
     "output_type": "stream",
     "text": [
      "Shape of X [N, C, H, W]:  torch.Size([64, 1, 28, 28])\n",
      "Shape of y:  torch.Size([64]) torch.int64\n"
     ]
    }
   ],
   "source": [
    "batch_size = 64\n",
    "\n",
    "# Create data loaders.\n",
    "train_dataloader = DataLoader(training_data, batch_size=batch_size)\n",
    "test_dataloader = DataLoader(test_data, batch_size=batch_size)\n",
    "\n",
    "for X, y in test_dataloader:\n",
    "    print(\"Shape of X [N, C, H, W]: \", X.shape)\n",
    "    print(\"Shape of y: \", y.shape, y.dtype)\n",
    "    break"
   ]
  },
  {
   "cell_type": "code",
   "execution_count": 3,
   "metadata": {},
   "outputs": [
    {
     "name": "stdout",
     "output_type": "stream",
     "text": [
      "Using cpu device\n",
      "NeuralNetwork(\n",
      "  (flatten): Flatten(start_dim=1, end_dim=-1)\n",
      "  (linear_relu_stack): Sequential(\n",
      "    (0): Linear(in_features=784, out_features=512, bias=True)\n",
      "    (1): ReLU()\n",
      "    (2): Linear(in_features=512, out_features=512, bias=True)\n",
      "    (3): ReLU()\n",
      "    (4): Linear(in_features=512, out_features=10, bias=True)\n",
      "    (5): ReLU()\n",
      "  )\n",
      ")\n"
     ]
    }
   ],
   "source": [
    "# Get cpu or gpu device for training.\n",
    "device = \"cuda\" if torch.cuda.is_available() else \"cpu\"\n",
    "print(\"Using {} device\".format(device))\n",
    "\n",
    "# Define model\n",
    "class NeuralNetwork(nn.Module):\n",
    "    def __init__(self):\n",
    "        super(NeuralNetwork, self).__init__()\n",
    "        self.flatten = nn.Flatten()\n",
    "        self.linear_relu_stack = nn.Sequential(\n",
    "            nn.Linear(28*28, 512),\n",
    "            nn.ReLU(),\n",
    "            nn.Linear(512, 512),\n",
    "            nn.ReLU(),\n",
    "            nn.Linear(512, 10),\n",
    "            nn.ReLU()\n",
    "        )\n",
    "\n",
    "    def forward(self, x):\n",
    "        x = self.flatten(x)\n",
    "        logits = self.linear_relu_stack(x)\n",
    "        return logits\n",
    "\n",
    "model = NeuralNetwork().to(device)\n",
    "print(model)"
   ]
  },
  {
   "cell_type": "code",
   "execution_count": 4,
   "metadata": {},
   "outputs": [],
   "source": [
    "loss_fn = nn.CrossEntropyLoss()\n",
    "optimizer = torch.optim.SGD(model.parameters(), lr=1e-3)\n",
    "\n",
    "def train(dataloader, model, loss_fn, optimizer):\n",
    "    size = len(dataloader.dataset)\n",
    "    for batch, (X, y) in enumerate(dataloader):\n",
    "        X, y = X.to(device), y.to(device)\n",
    "\n",
    "        # Compute prediction error\n",
    "        pred = model(X)\n",
    "        loss = loss_fn(pred, y)\n",
    "\n",
    "        # Backpropagation\n",
    "        optimizer.zero_grad()\n",
    "        loss.backward()\n",
    "        optimizer.step()\n",
    "\n",
    "        if batch % 100 == 0:\n",
    "            loss, current = loss.item(), batch * len(X)\n",
    "            print(f\"loss: {loss:>7f}  [{current:>5d}/{size:>5d}]\")\n",
    "            \n",
    "            "
   ]
  },
  {
   "cell_type": "code",
   "execution_count": 5,
   "metadata": {},
   "outputs": [],
   "source": [
    "def test(dataloader, model):\n",
    "    size = len(dataloader.dataset)\n",
    "    model.eval()\n",
    "    test_loss, correct = 0, 0\n",
    "    with torch.no_grad():\n",
    "        for X, y in dataloader:\n",
    "            X, y = X.to(device), y.to(device)\n",
    "            pred = model(X)\n",
    "            test_loss += loss_fn(pred, y).item()\n",
    "            correct += (pred.argmax(1) == y).type(torch.float).sum().item()\n",
    "    test_loss /= size\n",
    "    correct /= size\n",
    "    print(f\"Test Error: \\n Accuracy: {(100*correct):>0.1f}%, Avg loss: {test_loss:>8f} \\n\")"
   ]
  },
  {
   "cell_type": "code",
   "execution_count": 6,
   "metadata": {},
   "outputs": [
    {
     "name": "stdout",
     "output_type": "stream",
     "text": [
      "Epoch 1\n",
      "-------------------------------\n",
      "loss: 2.308813  [    0/60000]\n",
      "loss: 2.299672  [ 6400/60000]\n",
      "loss: 2.289407  [12800/60000]\n",
      "loss: 2.293985  [19200/60000]\n",
      "loss: 2.267685  [25600/60000]\n",
      "loss: 2.256834  [32000/60000]\n",
      "loss: 2.252500  [38400/60000]\n",
      "loss: 2.232074  [44800/60000]\n",
      "loss: 2.238373  [51200/60000]\n",
      "loss: 2.233106  [57600/60000]\n",
      "Test Error: \n",
      " Accuracy: 42.1%, Avg loss: 0.035024 \n",
      "\n",
      "Epoch 2\n",
      "-------------------------------\n",
      "loss: 2.205568  [    0/60000]\n",
      "loss: 2.210106  [ 6400/60000]\n",
      "loss: 2.192906  [12800/60000]\n",
      "loss: 2.239417  [19200/60000]\n",
      "loss: 2.166459  [25600/60000]\n",
      "loss: 2.147884  [32000/60000]\n",
      "loss: 2.144916  [38400/60000]\n",
      "loss: 2.105409  [44800/60000]\n",
      "loss: 2.125165  [51200/60000]\n",
      "loss: 2.126193  [57600/60000]\n",
      "Test Error: \n",
      " Accuracy: 42.7%, Avg loss: 0.033307 \n",
      "\n",
      "Epoch 3\n",
      "-------------------------------\n",
      "loss: 2.062781  [    0/60000]\n",
      "loss: 2.078362  [ 6400/60000]\n",
      "loss: 2.050988  [12800/60000]\n",
      "loss: 2.157411  [19200/60000]\n",
      "loss: 2.005012  [25600/60000]\n",
      "loss: 1.986694  [32000/60000]\n",
      "loss: 1.985089  [38400/60000]\n",
      "loss: 1.919732  [44800/60000]\n",
      "loss: 1.968683  [51200/60000]\n",
      "loss: 1.974656  [57600/60000]\n",
      "Test Error: \n",
      " Accuracy: 43.1%, Avg loss: 0.030993 \n",
      "\n",
      "Epoch 4\n",
      "-------------------------------\n",
      "loss: 1.868362  [    0/60000]\n",
      "loss: 1.910579  [ 6400/60000]\n",
      "loss: 1.878755  [12800/60000]\n",
      "loss: 2.054528  [19200/60000]\n",
      "loss: 1.823453  [25600/60000]\n",
      "loss: 1.816099  [32000/60000]\n",
      "loss: 1.806809  [38400/60000]\n",
      "loss: 1.733578  [44800/60000]\n",
      "loss: 1.803680  [51200/60000]\n",
      "loss: 1.825064  [57600/60000]\n",
      "Test Error: \n",
      " Accuracy: 44.1%, Avg loss: 0.028806 \n",
      "\n",
      "Epoch 5\n",
      "-------------------------------\n",
      "loss: 1.677963  [    0/60000]\n",
      "loss: 1.763854  [ 6400/60000]\n",
      "loss: 1.732235  [12800/60000]\n",
      "loss: 1.958919  [19200/60000]\n",
      "loss: 1.678897  [25600/60000]\n",
      "loss: 1.687486  [32000/60000]\n",
      "loss: 1.661246  [38400/60000]\n",
      "loss: 1.594845  [44800/60000]\n",
      "loss: 1.671791  [51200/60000]\n",
      "loss: 1.715998  [57600/60000]\n",
      "Test Error: \n",
      " Accuracy: 44.7%, Avg loss: 0.027111 \n",
      "\n",
      "Done!\n"
     ]
    }
   ],
   "source": [
    "epochs = 5\n",
    "for t in range(epochs):\n",
    "    print(f\"Epoch {t+1}\\n-------------------------------\")\n",
    "    train(train_dataloader, model, loss_fn, optimizer)\n",
    "    test(test_dataloader, model)\n",
    "print(\"Done!\")"
   ]
  },
  {
   "cell_type": "code",
   "execution_count": 6,
   "metadata": {},
   "outputs": [],
   "source": []
  }
 ],
 "metadata": {
  "kernelspec": {
   "name": "python3",
   "language": "python",
   "display_name": "Python 3"
  },
  "language_info": {
   "codemirror_mode": {
    "name": "ipython",
    "version": 3
   },
   "file_extension": ".py",
   "mimetype": "text/x-python",
   "name": "python",
   "nbconvert_exporter": "python",
   "pygments_lexer": "ipython3",
   "version": "3.6.6"
  }
 },
 "nbformat": 4,
 "nbformat_minor": 2
}